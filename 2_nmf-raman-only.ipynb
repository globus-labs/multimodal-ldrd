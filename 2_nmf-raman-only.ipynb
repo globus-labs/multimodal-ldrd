{
 "cells": [
  {
   "cell_type": "markdown",
   "metadata": {},
   "source": [
    "# Use NMF to Find Characteristic Signals in XRD Data\n",
    "Nothing fancy, just trying something easy first"
   ]
  },
  {
   "cell_type": "code",
   "execution_count": 1,
   "metadata": {},
   "outputs": [],
   "source": [
    "%matplotlib inline\n",
    "from matplotlib import pyplot as plt\n",
    "from sklearn.decomposition import NMF\n",
    "import pandas as pd\n",
    "import numpy as np\n",
    "import os"
   ]
  },
  {
   "cell_type": "markdown",
   "metadata": {},
   "source": [
    "## Load in the Data\n",
    "It's saved in a pickle file. We only need the diffraction patterns"
   ]
  },
  {
   "cell_type": "code",
   "execution_count": 2,
   "metadata": {},
   "outputs": [],
   "source": [
    "data = pd.read_pickle('data.pkl.gz')"
   ]
  },
  {
   "cell_type": "code",
   "execution_count": 3,
   "metadata": {},
   "outputs": [
    {
     "data": {
      "text/plain": [
       "Index(['Seq.', 'Name', 'measured temp', 'set temp', 'Day', 'Month', 'Date',\n",
       "       'Time', 'Year', 'sub sequence', 'xrd pattern', 'raman spectrum'],\n",
       "      dtype='object')"
      ]
     },
     "execution_count": 3,
     "metadata": {},
     "output_type": "execute_result"
    }
   ],
   "source": [
    "data.columns"
   ]
  },
  {
   "cell_type": "code",
   "execution_count": 4,
   "metadata": {},
   "outputs": [
    {
     "data": {
      "text/html": [
       "<div>\n",
       "<style scoped>\n",
       "    .dataframe tbody tr th:only-of-type {\n",
       "        vertical-align: middle;\n",
       "    }\n",
       "\n",
       "    .dataframe tbody tr th {\n",
       "        vertical-align: top;\n",
       "    }\n",
       "\n",
       "    .dataframe thead th {\n",
       "        text-align: right;\n",
       "    }\n",
       "</style>\n",
       "<table border=\"1\" class=\"dataframe\">\n",
       "  <thead>\n",
       "    <tr style=\"text-align: right;\">\n",
       "      <th></th>\n",
       "      <th>Frame</th>\n",
       "      <th>Wavelength</th>\n",
       "      <th>Column</th>\n",
       "      <th>Intensity</th>\n",
       "    </tr>\n",
       "  </thead>\n",
       "  <tbody>\n",
       "    <tr>\n",
       "      <td>0</td>\n",
       "      <td>2</td>\n",
       "      <td>222.707320</td>\n",
       "      <td>0</td>\n",
       "      <td>1399.845447</td>\n",
       "    </tr>\n",
       "    <tr>\n",
       "      <td>1</td>\n",
       "      <td>2</td>\n",
       "      <td>226.212595</td>\n",
       "      <td>1</td>\n",
       "      <td>1406.109094</td>\n",
       "    </tr>\n",
       "    <tr>\n",
       "      <td>2</td>\n",
       "      <td>2</td>\n",
       "      <td>229.716467</td>\n",
       "      <td>2</td>\n",
       "      <td>1414.845447</td>\n",
       "    </tr>\n",
       "    <tr>\n",
       "      <td>3</td>\n",
       "      <td>2</td>\n",
       "      <td>233.218938</td>\n",
       "      <td>3</td>\n",
       "      <td>1424.709082</td>\n",
       "    </tr>\n",
       "    <tr>\n",
       "      <td>4</td>\n",
       "      <td>2</td>\n",
       "      <td>236.720008</td>\n",
       "      <td>4</td>\n",
       "      <td>1430.445447</td>\n",
       "    </tr>\n",
       "    <tr>\n",
       "      <td>...</td>\n",
       "      <td>...</td>\n",
       "      <td>...</td>\n",
       "      <td>...</td>\n",
       "      <td>...</td>\n",
       "    </tr>\n",
       "    <tr>\n",
       "      <td>1335</td>\n",
       "      <td>2</td>\n",
       "      <td>3903.764257</td>\n",
       "      <td>1335</td>\n",
       "      <td>1300.245459</td>\n",
       "    </tr>\n",
       "    <tr>\n",
       "      <td>1336</td>\n",
       "      <td>2</td>\n",
       "      <td>3905.922945</td>\n",
       "      <td>1336</td>\n",
       "      <td>1297.309082</td>\n",
       "    </tr>\n",
       "    <tr>\n",
       "      <td>1337</td>\n",
       "      <td>2</td>\n",
       "      <td>3908.080917</td>\n",
       "      <td>1337</td>\n",
       "      <td>1299.390894</td>\n",
       "    </tr>\n",
       "    <tr>\n",
       "      <td>1338</td>\n",
       "      <td>2</td>\n",
       "      <td>3910.238174</td>\n",
       "      <td>1338</td>\n",
       "      <td>1297.763647</td>\n",
       "    </tr>\n",
       "    <tr>\n",
       "      <td>1339</td>\n",
       "      <td>2</td>\n",
       "      <td>3912.394716</td>\n",
       "      <td>1339</td>\n",
       "      <td>1296.981824</td>\n",
       "    </tr>\n",
       "  </tbody>\n",
       "</table>\n",
       "<p>1340 rows × 4 columns</p>\n",
       "</div>"
      ],
      "text/plain": [
       "      Frame   Wavelength  Column    Intensity\n",
       "0         2   222.707320       0  1399.845447\n",
       "1         2   226.212595       1  1406.109094\n",
       "2         2   229.716467       2  1414.845447\n",
       "3         2   233.218938       3  1424.709082\n",
       "4         2   236.720008       4  1430.445447\n",
       "...     ...          ...     ...          ...\n",
       "1335      2  3903.764257    1335  1300.245459\n",
       "1336      2  3905.922945    1336  1297.309082\n",
       "1337      2  3908.080917    1337  1299.390894\n",
       "1338      2  3910.238174    1338  1297.763647\n",
       "1339      2  3912.394716    1339  1296.981824\n",
       "\n",
       "[1340 rows x 4 columns]"
      ]
     },
     "execution_count": 4,
     "metadata": {},
     "output_type": "execute_result"
    }
   ],
   "source": [
    "data['raman spectrum'].iloc[0]"
   ]
  },
  {
   "cell_type": "code",
   "execution_count": 5,
   "metadata": {},
   "outputs": [],
   "source": [
    "raman_spectrum = np.vstack(data['raman spectrum'].apply(lambda x: x['Intensity'].values))"
   ]
  },
  {
   "cell_type": "code",
   "execution_count": 6,
   "metadata": {},
   "outputs": [],
   "source": [
    "two_theta = data['raman spectrum'].iloc[0]['Wavelength']"
   ]
  },
  {
   "cell_type": "markdown",
   "metadata": {},
   "source": [
    "Normalize them by the maximum intensity in the total set"
   ]
  },
  {
   "cell_type": "code",
   "execution_count": 7,
   "metadata": {},
   "outputs": [],
   "source": [
    "raman_spectrum /= raman_spectrum.max()"
   ]
  },
  {
   "cell_type": "markdown",
   "metadata": {},
   "source": [
    "## Perform NMF\n",
    "[Non-negative Matrix Factorization (NMF)](https://scikit-learn.org/stable/modules/generated/sklearn.decomposition.NMF.html) separates a single into multiple components that are added together to form the original signal. \n",
    "The trick with NMF, compared to tools like PCA, is that the weights with which these signals are added together must be $>=0$.\n"
   ]
  },
  {
   "cell_type": "markdown",
   "metadata": {},
   "source": [
    "### Pick the number of components\n",
    "A key adjustable parameter in NMF is the number of components to use. \n",
    "We are going to tune that by figuring out how many are needed to recreate the XRD patterns"
   ]
  },
  {
   "cell_type": "code",
   "execution_count": 8,
   "metadata": {},
   "outputs": [],
   "source": [
    "num_components = np.arange(1, 10)"
   ]
  },
  {
   "cell_type": "markdown",
   "metadata": {},
   "source": [
    "Measure the reconstruction accuracy as a function of the number of components"
   ]
  },
  {
   "cell_type": "code",
   "execution_count": 9,
   "metadata": {},
   "outputs": [
    {
     "name": "stdout",
     "output_type": "stream",
     "text": [
      "Wall time: 2.65 s\n"
     ]
    }
   ],
   "source": [
    "%%time\n",
    "recon_error = [NMF(n_components=n).fit(raman_spectrum).reconstruction_err_ for n in num_components]"
   ]
  },
  {
   "cell_type": "code",
   "execution_count": 10,
   "metadata": {},
   "outputs": [
    {
     "data": {
      "image/png": "[encoded data removed]",
      "text/plain": [
       "<Figure size 252x180 with 1 Axes>"
      ]
     },
     "metadata": {
      "needs_background": "light"
     },
     "output_type": "display_data"
    }
   ],
   "source": [
    "fig, ax = plt.subplots()\n",
    "\n",
    "ax.semilogy(num_components, recon_error)\n",
    "\n",
    "ax.set_xlabel('# Components')\n",
    "ax.set_ylabel('Reconstruction Error')\n",
    "\n",
    "fig.set_size_inches(3.5, 2.5)"
   ]
  },
  {
   "cell_type": "markdown",
   "metadata": {},
   "source": [
    "*Finding*: The rate of the error decreasing lowers significantly after 8 components (note that this is a log scale)"
   ]
  },
  {
   "cell_type": "code",
   "execution_count": 11,
   "metadata": {},
   "outputs": [],
   "source": [
    "n_components = 8"
   ]
  },
  {
   "cell_type": "markdown",
   "metadata": {},
   "source": [
    "## Enforce Sparsity\n",
    "We are going to try to make the learned components easier to interpret by enforcing sparsity. That is, we want to decompose patterns into a smaller number of components and have those components be simpler"
   ]
  },
  {
   "cell_type": "code",
   "execution_count": 12,
   "metadata": {},
   "outputs": [],
   "source": [
    "alphas = np.logspace(-6, 2, 32)"
   ]
  },
  {
   "cell_type": "code",
   "execution_count": 13,
   "metadata": {},
   "outputs": [
    {
     "name": "stdout",
     "output_type": "stream",
     "text": [
      "Wall time: 13.3 s\n"
     ]
    }
   ],
   "source": [
    "%%time\n",
    "recon_error = [NMF(n_components=n_components, \n",
    "                  alpha=a, l1_ratio=1).fit(raman_spectrum).reconstruction_err_ for a in alphas]"
   ]
  },
  {
   "cell_type": "code",
   "execution_count": 14,
   "metadata": {},
   "outputs": [
    {
     "data": {
      "image/png": "[encoded data removed]",
      "text/plain": [
       "<Figure size 252x180 with 1 Axes>"
      ]
     },
     "metadata": {
      "needs_background": "light"
     },
     "output_type": "display_data"
    }
   ],
   "source": [
    "fig, ax = plt.subplots()\n",
    "\n",
    "ax.loglog(alphas, recon_error)\n",
    "\n",
    "ax.set_xlabel('Alpha')\n",
    "ax.set_ylabel('Reconstruction Error')\n",
    "\n",
    "fig.set_size_inches(3.5, 2.5)"
   ]
  },
  {
   "cell_type": "markdown",
   "metadata": {},
   "source": [
    "We want the most sparisty that does not seriously mess up the reconstruction. \n",
    "That seems to be about $10^{-4}$"
   ]
  },
  {
   "cell_type": "markdown",
   "metadata": {},
   "source": [
    "### Visualize the Performance\n",
    "See how good a few patterns look post-reconstruction, if the components make sense, etc"
   ]
  },
  {
   "cell_type": "code",
   "execution_count": 15,
   "metadata": {},
   "outputs": [
    {
     "name": "stdout",
     "output_type": "stream",
     "text": [
      "NMF error: 1.526e-01\n"
     ]
    }
   ],
   "source": [
    "nmf = NMF(n_components=n_components, alpha=1e-4, l1_ratio=1).fit(raman_spectrum)\n",
    "print(f'NMF error: {nmf.reconstruction_err_:.3e}')"
   ]
  },
  {
   "cell_type": "markdown",
   "metadata": {},
   "source": [
    "Transform and then reconstruct all patterns"
   ]
  },
  {
   "cell_type": "code",
   "execution_count": 16,
   "metadata": {},
   "outputs": [],
   "source": [
    "latent_space = nmf.transform(raman_spectrum)"
   ]
  },
  {
   "cell_type": "code",
   "execution_count": 17,
   "metadata": {},
   "outputs": [],
   "source": [
    "reconstructed = nmf.inverse_transform(latent_space)"
   ]
  },
  {
   "cell_type": "markdown",
   "metadata": {},
   "source": [
    "Plot a few"
   ]
  },
  {
   "cell_type": "code",
   "execution_count": 18,
   "metadata": {},
   "outputs": [
    {
     "data": {
      "text/plain": [
       "<bound method Axes.get_legend_handles_labels of <matplotlib.axes._subplots.AxesSubplot object at 0x0000020F8CD4DE48>>"
      ]
     },
     "execution_count": 18,
     "metadata": {},
     "output_type": "execute_result"
    }
   ],
   "source": [
    "ax.get_legend_handles_labels"
   ]
  },
  {
   "cell_type": "code",
   "execution_count": 19,
   "metadata": {},
   "outputs": [
    {
     "data": {
      "image/png": "[encoded data removed]",
      "text/plain": [
       "<Figure size 468x180 with 4 Axes>"
      ]
     },
     "metadata": {
      "needs_background": "light"
     },
     "output_type": "display_data"
    }
   ],
   "source": [
    "fig, axs = plt.subplots(1, 4, sharey=True)\n",
    "\n",
    "chosen_ids = np.linspace(0, raman_spectrum.shape[0]-1, 5, dtype=np.int)[:-1]\n",
    "\n",
    "for pid, ax in zip(chosen_ids, axs):\n",
    "    ax.plot(two_theta, raman_spectrum[pid], 'k--', label='Original')\n",
    "    ax.plot(two_theta, reconstructed[pid], 'r-', label='Reconstructed', alpha=0.5, lw=2)\n",
    "\n",
    "axs[0].set_ylabel('Intensity')\n",
    "fig.legend(*axs[0].get_legend_handles_labels(), ncol=2)\n",
    "for ax in axs:\n",
    "    ax.set_xlabel('Wavelength')\n",
    "fig.set_size_inches(6.5, 2.5)\n",
    "fig.tight_layout()"
   ]
  },
  {
   "cell_type": "markdown",
   "metadata": {},
   "source": [
    "Plot the components"
   ]
  },
  {
   "cell_type": "code",
   "execution_count": 20,
   "metadata": {},
   "outputs": [
    {
     "data": {
      "image/png": "[encoded data removed]",
      "text/plain": [
       "<Figure size 468x180 with 4 Axes>"
      ]
     },
     "metadata": {
      "needs_background": "light"
     },
     "output_type": "display_data"
    }
   ],
   "source": [
    "fig, axs = plt.subplots(1, 4, sharey=True)\n",
    "\n",
    "for pid, ax in enumerate(axs):\n",
    "    ax.plot(two_theta, nmf.components_[pid, :], color='darkcyan')\n",
    "\n",
    "axs[0].set_ylabel('Intensity')\n",
    "for ax in axs:\n",
    "    ax.set_xlabel('Wavelength')\n",
    "fig.set_size_inches(6.5, 2.5)\n",
    "fig.tight_layout()\n",
    "fig.savefig(os.path.join('figures', 'raman-components.png'), dpi=320)"
   ]
  },
  {
   "cell_type": "code",
   "execution_count": 21,
   "metadata": {},
   "outputs": [
    {
     "data": {
      "image/png": "[encoded data removed]",
      "text/plain": [
       "<Figure size 252x180 with 1 Axes>"
      ]
     },
     "metadata": {
      "needs_background": "light"
     },
     "output_type": "display_data"
    }
   ],
   "source": [
    "fig, ax = plt.subplots()\n",
    "\n",
    "for pid in range(nmf.components_.shape[0]):\n",
    "    ax.plot(two_theta, nmf.components_[pid, :], label=f'{pid}')\n",
    "\n",
    "ax.set_ylabel('Intensity')\n",
    "ax.set_xlabel('Wavelength')\n",
    "ax.legend(ncol=2)\n",
    "fig.set_size_inches(3.5, 2.5)\n",
    "fig.tight_layout()\n",
    "fig.savefig(os.path.join('figures', 'raman-components-alltogether.png'), dpi=320)"
   ]
  },
  {
   "cell_type": "markdown",
   "metadata": {},
   "source": [
    "**TODO**: Talk to others about these patterns, do they make sense?\n",
    "They all seem like different peaked functions, which is what my ignorence expected"
   ]
  },
  {
   "cell_type": "markdown",
   "metadata": {},
   "source": [
    "Plot the change in components"
   ]
  },
  {
   "cell_type": "code",
   "execution_count": 22,
   "metadata": {},
   "outputs": [
    {
     "data": {
      "image/png": "[encoded data removed]",
      "text/plain": [
       "<Figure size 468x180 with 2 Axes>"
      ]
     },
     "metadata": {
      "needs_background": "light"
     },
     "output_type": "display_data"
    }
   ],
   "source": [
    "fig, axs = plt.subplots(1, 2, sharey=True)\n",
    "\n",
    "for i, l in enumerate(latent_space.T):\n",
    "    axs[0].plot(data['Seq.'], l, label=i)\n",
    "axs[0].set_xlabel('Time')\n",
    "axs[0].legend(ncol=2)\n",
    "axs[1].plot(data['measured temp'], latent_space)\n",
    "axs[1].set_xlabel('Temperature (C)')\n",
    "\n",
    "axs[0].set_ylabel('Contribution')\n",
    "fig.set_size_inches(6.5, 2.5)\n",
    "\n",
    "axs[0].set_ylim(axs[0].get_ylim())\n",
    "axs[0].plot([data['Seq.'].loc[data['measured temp'].idxmax()]]*2, axs[0].get_ylim(), 'k--')\n",
    "\n",
    "fig.tight_layout()\n",
    "fig.savefig(os.path.join('figures', 'raman-proportions.png'), dpi=320)"
   ]
  },
  {
   "cell_type": "markdown",
   "metadata": {},
   "source": [
    "**TODO**: The signatures do not seem to vary much in the liquid. Is that expected? Should I cluster only on the liquid?"
   ]
  },
  {
   "cell_type": "code",
   "execution_count": null,
   "metadata": {},
   "outputs": [],
   "source": []
  }
 ],
 "metadata": {
  "kernelspec": {
   "display_name": "Python 3",
   "language": "python",
   "name": "python3"
  },
  "language_info": {
   "codemirror_mode": {
    "name": "ipython",
    "version": 3
   },
   "file_extension": ".py",
   "mimetype": "text/x-python",
   "name": "python",
   "nbconvert_exporter": "python",
   "pygments_lexer": "ipython3",
   "version": "3.7.4"
  }
 },
 "nbformat": 4,
 "nbformat_minor": 4
}
